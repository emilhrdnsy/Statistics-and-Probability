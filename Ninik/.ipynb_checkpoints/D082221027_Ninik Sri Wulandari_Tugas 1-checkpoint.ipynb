{
 "cells": [
  {
   "cell_type": "code",
   "execution_count": null,
   "id": "c4047349",
   "metadata": {},
   "outputs": [],
   "source": [
    "%matplotlib inline\n",
    "import random #untuk menghasilkan angka acak di Python.\n",
    "import datetime\n",
    "import pandas as pd #untuk proses analisis data, mengelola data berbentuk table atau dataframe dan manipulasi data\n",
    "import matplotlib.pyplot as plt #lib untuk visualisasi data seperti grafik histogram, diagram batang dan jenis diagram lainnya\n",
    "import statistics\n",
    "import numpy as np  #untuk membuat objek kelas array tunggal dan multidimensi\n",
    "import scipy #Scientific Python untuk keperluan komputasi saintifik\n",
    "from scipy import stats #untuk memberi pengguna pengetahuan tentang paket ini.\n",
    "import seaborn #untuk visualisasi data yang dibangun di atas matplotlib."
   ]
  },
  {
   "cell_type": "code",
   "execution_count": null,
   "id": "d84c288d",
   "metadata": {},
   "outputs": [],
   "source": [
    "data = pd.read_csv('D:/Ninik/ANALISIS BIG DATA/D082221027_Ninik Sri Wulandari_Tugas 1/trip1.csv') # Membaca file dataset"
   ]
  },
  {
   "cell_type": "code",
   "execution_count": null,
   "id": "a6aa7403",
   "metadata": {},
   "outputs": [],
   "source": [
    "# Mengkonversi String ke datetime, dan Memperoleh Fitur Baru\n",
    "List_ = list(data['starttime'])\n",
    "List_ = [datetime.datetime.strptime(x, \"%m/%d/%Y %H:%M\") for x in List_]\n",
    "data['starttime_mod'] = pd.Series(List_,index=data.index)\n",
    "data['starttime_date'] = pd.Series([x.date() for x in List_],index=data.index)\n",
    "data['starttime_year'] = pd.Series([x.year for x in List_],index=data.index)\n",
    "data['starttime_month'] = pd.Series([x.month for x in List_],index=data.index)\n",
    "data['starttime_day'] = pd.Series([x.day for x in List_],index=data.index)\n",
    "data['starttime_hour'] = pd.Series([x.hour for x in List_],index=data.index)"
   ]
  },
  {
   "cell_type": "markdown",
   "id": "0af6f70e",
   "metadata": {},
   "source": [
    "### a. Tentukan distribusi jumlah perjalanan per tahun. Apakah Anda melihat pola tertentu?"
   ]
  },
  {
   "cell_type": "code",
   "execution_count": null,
   "id": "c2fa9382",
   "metadata": {
    "scrolled": true
   },
   "outputs": [],
   "source": [
    "groupby_year = data.groupby('starttime_year').size()\n",
    "groupby_year.plot.bar(title = 'distribution of number of trips by year')\n",
    "print(groupby_year)"
   ]
  },
  {
   "cell_type": "markdown",
   "id": "49cdacf3",
   "metadata": {},
   "source": [
    "### b. Tentukan distribusi jumlah perjalanan per bulan. Apakah Anda melihat pola tertentu?"
   ]
  },
  {
   "cell_type": "code",
   "execution_count": null,
   "id": "9f464676",
   "metadata": {
    "scrolled": false
   },
   "outputs": [],
   "source": [
    "groupby_month = data.groupby('starttime_month').size()\n",
    "groupby_month.plot.bar(title = 'distribution of number of trips by month')\n",
    "print(groupby_month)"
   ]
  },
  {
   "cell_type": "markdown",
   "id": "a683db05",
   "metadata": {},
   "source": [
    "### c. Buat plot distribusi frekuensi perjalanan setiap hari"
   ]
  },
  {
   "cell_type": "code",
   "execution_count": null,
   "id": "766df83f",
   "metadata": {
    "scrolled": true
   },
   "outputs": [],
   "source": [
    "groupby_day = data.groupby('starttime_day').size()\n",
    "groupby_day.plot.bar(title = 'distribution of number of trips by day')\n",
    "# print(groupby_year)"
   ]
  },
  {
   "cell_type": "markdown",
   "id": "3d2c64d4",
   "metadata": {},
   "source": [
    "### d. Buat plot distribusi frekuensi perjalanan setiap hari"
   ]
  },
  {
   "cell_type": "code",
   "execution_count": null,
   "id": "bc0a28e9",
   "metadata": {},
   "outputs": [],
   "source": [
    "data.groupby('starttime_day')['tripduration'].mean().plot.bar(title \n",
    "                                                               ='Distribution of Trip duration by day', figsize = (15,4))\n",
    "\n",
    "print(data.groupby('starttime_day')['tripduration'].mean())"
   ]
  },
  {
   "cell_type": "code",
   "execution_count": null,
   "id": "3781b20d",
   "metadata": {},
   "outputs": [],
   "source": []
  }
 ],
 "metadata": {
  "kernelspec": {
   "display_name": "Python 3 (ipykernel)",
   "language": "python",
   "name": "python3"
  },
  "language_info": {
   "codemirror_mode": {
    "name": "ipython",
    "version": 3
   },
   "file_extension": ".py",
   "mimetype": "text/x-python",
   "name": "python",
   "nbconvert_exporter": "python",
   "pygments_lexer": "ipython3",
   "version": "3.9.13"
  }
 },
 "nbformat": 4,
 "nbformat_minor": 5
}
